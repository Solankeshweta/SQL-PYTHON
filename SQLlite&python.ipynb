{
 "cells": [
  {
   "cell_type": "markdown",
   "id": "a4e4f9f3-23ed-48b4-b37a-9db7819c38e7",
   "metadata": {},
   "source": [
    "# Step 1 : Install & Import Required Libraries"
   ]
  },
  {
   "cell_type": "code",
   "execution_count": 1,
   "id": "e89c8745-a642-4e8f-b9b2-01fd3666c5c4",
   "metadata": {},
   "outputs": [],
   "source": [
    "# Install SQLite3 (comes built in with python)\n",
    "import sqlite3\n",
    "\n",
    "# InstallPandas for Data Analysis\n",
    "import pandas as pd\n",
    "\n",
    "# Install Seaborn & Matplotlib for Visualization \n",
    "import matplotlib.pyplot as plt \n",
    "import seaborn as sns \n",
    "\n",
    "# This method hides any warnings in your Juoyter Notebook.\n",
    "import warnings\n",
    "warnings.filterwarnings(\"ignore\")"
   ]
  },
  {
   "cell_type": "markdown",
   "id": "5f1cee36-8b6f-41f8-b140-4d7504fef3dd",
   "metadata": {},
   "source": [
    "# Step 2: Creat a New SQLite Database And Table"
   ]
  },
  {
   "cell_type": "code",
   "execution_count": 27,
   "id": "4a23cb80-a7ae-478d-a878-233954b5d00a",
   "metadata": {},
   "outputs": [],
   "source": [
    "# Connect to SQLite Database (Creates a New file if it doesn't exist)\n",
    "conn = sqlite3.connect(\"Customer_data.db\")\n",
    "\n",
    "#Create a Cursor to interact with database\n",
    "cursor = conn.cursor()\n",
    "\n",
    "# Drop table if it exists\n",
    "cursor.execute(\"DROP TABLE IF EXISTS customers\")\n",
    "\n",
    "#Create a sample table\n",
    "cursor.execute(\"\"\"\n",
    "CREATE TABLE IF NOT EXISTS customers (\n",
    "id INTEGER PRIMARY KEY AUTOINCREMENT,\n",
    "name TEXT,\n",
    "age INTERGER,\n",
    "city TEXT,\n",
    "total_spent REAL\n",
    ")\n",
    "\"\"\")\n",
    "\n",
    "# Commit and Close the connection\n",
    "conn.commit()\n"
   ]
  },
  {
   "cell_type": "markdown",
   "id": "9e10a0aa-a795-4da1-9554-b251014a5926",
   "metadata": {},
   "source": [
    "# Step 3: Insert Sample Data Into the SQL Table"
   ]
  },
  {
   "cell_type": "code",
   "execution_count": 32,
   "id": "00e9a36c-8731-4e28-bd23-e335a75d21db",
   "metadata": {},
   "outputs": [],
   "source": [
    "# Sample data to insert \n",
    "customers= [\n",
    "    (\"Alice Jhonson\", 28, \"New York\", 500.75),\n",
    "    (\"Bob Smith\", 35, \"Los Angeles\", 1200.50),\n",
    "    (\"Charlie Brown\", 22, \"Chicago\", 330.40),\n",
    "    (\"David White\", 40, \"Houston\", 980.90),\n",
    "    (\"Emma Wilson\", 31, \"San Francisco\", 700.60)\n",
    "]\n",
    "\n",
    "# Insert data into table\n",
    "cursor.executemany (\"INSERT INTO customers (name, age, city, total_spent) VALUES (?, ?, ?, ?)\", customers)\n",
    "\n",
    "# Commit Changes\n",
    "conn.commit()\n",
    "\n"
   ]
  },
  {
   "cell_type": "code",
   "execution_count": 33,
   "id": "6ca5c41c-241a-473a-a021-4e4a35baf267",
   "metadata": {},
   "outputs": [
    {
     "data": {
      "text/html": [
       "<div>\n",
       "<style scoped>\n",
       "    .dataframe tbody tr th:only-of-type {\n",
       "        vertical-align: middle;\n",
       "    }\n",
       "\n",
       "    .dataframe tbody tr th {\n",
       "        vertical-align: top;\n",
       "    }\n",
       "\n",
       "    .dataframe thead th {\n",
       "        text-align: right;\n",
       "    }\n",
       "</style>\n",
       "<table border=\"1\" class=\"dataframe\">\n",
       "  <thead>\n",
       "    <tr style=\"text-align: right;\">\n",
       "      <th></th>\n",
       "      <th>id</th>\n",
       "      <th>name</th>\n",
       "      <th>age</th>\n",
       "      <th>city</th>\n",
       "      <th>total_spent</th>\n",
       "    </tr>\n",
       "  </thead>\n",
       "  <tbody>\n",
       "    <tr>\n",
       "      <th>0</th>\n",
       "      <td>1</td>\n",
       "      <td>Alice Jhonson</td>\n",
       "      <td>28</td>\n",
       "      <td>New York</td>\n",
       "      <td>500.75</td>\n",
       "    </tr>\n",
       "    <tr>\n",
       "      <th>1</th>\n",
       "      <td>2</td>\n",
       "      <td>Bob Smith</td>\n",
       "      <td>35</td>\n",
       "      <td>Los Angeles</td>\n",
       "      <td>1200.50</td>\n",
       "    </tr>\n",
       "    <tr>\n",
       "      <th>2</th>\n",
       "      <td>3</td>\n",
       "      <td>Charlie Brown</td>\n",
       "      <td>22</td>\n",
       "      <td>Chicago</td>\n",
       "      <td>330.40</td>\n",
       "    </tr>\n",
       "    <tr>\n",
       "      <th>3</th>\n",
       "      <td>4</td>\n",
       "      <td>David White</td>\n",
       "      <td>40</td>\n",
       "      <td>Houston</td>\n",
       "      <td>980.90</td>\n",
       "    </tr>\n",
       "    <tr>\n",
       "      <th>4</th>\n",
       "      <td>5</td>\n",
       "      <td>Emma Wilson</td>\n",
       "      <td>31</td>\n",
       "      <td>San Francisco</td>\n",
       "      <td>700.60</td>\n",
       "    </tr>\n",
       "  </tbody>\n",
       "</table>\n",
       "</div>"
      ],
      "text/plain": [
       "   id           name  age           city  total_spent\n",
       "0   1  Alice Jhonson   28       New York       500.75\n",
       "1   2      Bob Smith   35    Los Angeles      1200.50\n",
       "2   3  Charlie Brown   22        Chicago       330.40\n",
       "3   4    David White   40        Houston       980.90\n",
       "4   5    Emma Wilson   31  San Francisco       700.60"
      ]
     },
     "execution_count": 33,
     "metadata": {},
     "output_type": "execute_result"
    }
   ],
   "source": [
    "# Run aSQL Query to Retrieve all customer data\n",
    "\n",
    "query = \"SELECT *FROM customers\"\n",
    "df = pd.read_sql(query, conn) # Store query results in a Pandas DataFrame \n",
    "\n",
    "# Display the data\n",
    "df.head()"
   ]
  },
  {
   "cell_type": "markdown",
   "id": "219cc988-017f-4528-859e-cd760504bf5d",
   "metadata": {},
   "source": [
    "# Step 5: Perform Data Analysis Using SQL Queries"
   ]
  },
  {
   "cell_type": "code",
   "execution_count": 34,
   "id": "3e08a102-c827-49a5-b392-10be36e19b7c",
   "metadata": {},
   "outputs": [
    {
     "data": {
      "text/html": [
       "<div>\n",
       "<style scoped>\n",
       "    .dataframe tbody tr th:only-of-type {\n",
       "        vertical-align: middle;\n",
       "    }\n",
       "\n",
       "    .dataframe tbody tr th {\n",
       "        vertical-align: top;\n",
       "    }\n",
       "\n",
       "    .dataframe thead th {\n",
       "        text-align: right;\n",
       "    }\n",
       "</style>\n",
       "<table border=\"1\" class=\"dataframe\">\n",
       "  <thead>\n",
       "    <tr style=\"text-align: right;\">\n",
       "      <th></th>\n",
       "      <th>id</th>\n",
       "      <th>name</th>\n",
       "      <th>age</th>\n",
       "      <th>city</th>\n",
       "      <th>total_spent</th>\n",
       "    </tr>\n",
       "  </thead>\n",
       "  <tbody>\n",
       "    <tr>\n",
       "      <th>0</th>\n",
       "      <td>1</td>\n",
       "      <td>Alice Jhonson</td>\n",
       "      <td>28</td>\n",
       "      <td>New York</td>\n",
       "      <td>500.75</td>\n",
       "    </tr>\n",
       "    <tr>\n",
       "      <th>1</th>\n",
       "      <td>2</td>\n",
       "      <td>Bob Smith</td>\n",
       "      <td>35</td>\n",
       "      <td>Los Angeles</td>\n",
       "      <td>1200.50</td>\n",
       "    </tr>\n",
       "    <tr>\n",
       "      <th>2</th>\n",
       "      <td>4</td>\n",
       "      <td>David White</td>\n",
       "      <td>40</td>\n",
       "      <td>Houston</td>\n",
       "      <td>980.90</td>\n",
       "    </tr>\n",
       "    <tr>\n",
       "      <th>3</th>\n",
       "      <td>5</td>\n",
       "      <td>Emma Wilson</td>\n",
       "      <td>31</td>\n",
       "      <td>San Francisco</td>\n",
       "      <td>700.60</td>\n",
       "    </tr>\n",
       "  </tbody>\n",
       "</table>\n",
       "</div>"
      ],
      "text/plain": [
       "   id           name  age           city  total_spent\n",
       "0   1  Alice Jhonson   28       New York       500.75\n",
       "1   2      Bob Smith   35    Los Angeles      1200.50\n",
       "2   4    David White   40        Houston       980.90\n",
       "3   5    Emma Wilson   31  San Francisco       700.60"
      ]
     },
     "execution_count": 34,
     "metadata": {},
     "output_type": "execute_result"
    }
   ],
   "source": [
    "query = \"SELECT * FROM customers WHERE total_spent > 500\"\n",
    "pd.read_sql(query, conn)"
   ]
  },
  {
   "cell_type": "code",
   "execution_count": 37,
   "id": "dc6ff880-3402-4c70-86b4-3ce77c585781",
   "metadata": {},
   "outputs": [
    {
     "data": {
      "text/html": [
       "<div>\n",
       "<style scoped>\n",
       "    .dataframe tbody tr th:only-of-type {\n",
       "        vertical-align: middle;\n",
       "    }\n",
       "\n",
       "    .dataframe tbody tr th {\n",
       "        vertical-align: top;\n",
       "    }\n",
       "\n",
       "    .dataframe thead th {\n",
       "        text-align: right;\n",
       "    }\n",
       "</style>\n",
       "<table border=\"1\" class=\"dataframe\">\n",
       "  <thead>\n",
       "    <tr style=\"text-align: right;\">\n",
       "      <th></th>\n",
       "      <th>average_age</th>\n",
       "    </tr>\n",
       "  </thead>\n",
       "  <tbody>\n",
       "    <tr>\n",
       "      <th>0</th>\n",
       "      <td>31.2</td>\n",
       "    </tr>\n",
       "  </tbody>\n",
       "</table>\n",
       "</div>"
      ],
      "text/plain": [
       "   average_age\n",
       "0         31.2"
      ]
     },
     "execution_count": 37,
     "metadata": {},
     "output_type": "execute_result"
    }
   ],
   "source": [
    "# Find the average customer age\n",
    "\n",
    "query = \"SELECT AVG(age) AS average_age FROM customers\"\n",
    "pd.read_sql(query, conn)"
   ]
  },
  {
   "cell_type": "code",
   "execution_count": 36,
   "id": "c941b819-882b-4f7d-ba68-d2a71e6d13d4",
   "metadata": {},
   "outputs": [
    {
     "data": {
      "text/html": [
       "<div>\n",
       "<style scoped>\n",
       "    .dataframe tbody tr th:only-of-type {\n",
       "        vertical-align: middle;\n",
       "    }\n",
       "\n",
       "    .dataframe tbody tr th {\n",
       "        vertical-align: top;\n",
       "    }\n",
       "\n",
       "    .dataframe thead th {\n",
       "        text-align: right;\n",
       "    }\n",
       "</style>\n",
       "<table border=\"1\" class=\"dataframe\">\n",
       "  <thead>\n",
       "    <tr style=\"text-align: right;\">\n",
       "      <th></th>\n",
       "      <th>city</th>\n",
       "      <th>num_customers</th>\n",
       "    </tr>\n",
       "  </thead>\n",
       "  <tbody>\n",
       "    <tr>\n",
       "      <th>0</th>\n",
       "      <td>Chicago</td>\n",
       "      <td>1</td>\n",
       "    </tr>\n",
       "    <tr>\n",
       "      <th>1</th>\n",
       "      <td>Houston</td>\n",
       "      <td>1</td>\n",
       "    </tr>\n",
       "    <tr>\n",
       "      <th>2</th>\n",
       "      <td>Los Angeles</td>\n",
       "      <td>1</td>\n",
       "    </tr>\n",
       "    <tr>\n",
       "      <th>3</th>\n",
       "      <td>New York</td>\n",
       "      <td>1</td>\n",
       "    </tr>\n",
       "    <tr>\n",
       "      <th>4</th>\n",
       "      <td>San Francisco</td>\n",
       "      <td>1</td>\n",
       "    </tr>\n",
       "  </tbody>\n",
       "</table>\n",
       "</div>"
      ],
      "text/plain": [
       "            city  num_customers\n",
       "0        Chicago              1\n",
       "1        Houston              1\n",
       "2    Los Angeles              1\n",
       "3       New York              1\n",
       "4  San Francisco              1"
      ]
     },
     "execution_count": 36,
     "metadata": {},
     "output_type": "execute_result"
    }
   ],
   "source": [
    "# Count customers in each city \n",
    "query = \"SELECT city, COUNT(*) AS num_customers FROM customers GROUP BY city\"\n",
    "pd.read_sql(query, conn)"
   ]
  },
  {
   "cell_type": "markdown",
   "id": "bcc5f6c0-cf46-47f4-a3c2-c1b96274f165",
   "metadata": {},
   "source": [
    "# Step 6: Visualization SQL Query Results Using Python\n"
   ]
  },
  {
   "cell_type": "code",
   "execution_count": 44,
   "id": "60779f43-5071-455e-b419-f58b21c6282c",
   "metadata": {},
   "outputs": [
    {
     "data": {
      "image/png": "[encoded data removed]",
      "text/plain": [
       "<Figure size 800x500 with 1 Axes>"
      ]
     },
     "metadata": {},
     "output_type": "display_data"
    }
   ],
   "source": [
    "# Run SQL query and store results in DataFrame\n",
    "query = \"SELECT city, SUM(total_spent) AS total_spent FROM customers GROUP BY city\"\n",
    "df_sales = pd.read_sql(query, conn)\n",
    "\n",
    "# Plot hte Data\n",
    "plt.figure(figsize=(8,5))\n",
    "sns.barplot(x=\"city\", y=\"total_spent\", data=df_sales, palette=\"coolwarm\")\n",
    "plt. xticks(rotation=45)\n",
    "plt.title(\"Total Sales by City\")\n",
    "plt.show()\n"
   ]
  },
  {
   "cell_type": "markdown",
   "id": "65129eee-eab1-437b-8b76-07ecc8b4d61c",
   "metadata": {},
   "source": [
    "# Step 7: Close the SQL Connection\n"
   ]
  },
  {
   "cell_type": "code",
   "execution_count": 45,
   "id": "5004c9f4-4416-4f15-bc1b-7950b94c7c0e",
   "metadata": {},
   "outputs": [],
   "source": [
    "conn.close()"
   ]
  },
  {
   "cell_type": "markdown",
   "id": "d778d9af-3130-42fc-a9e0-1930c122ea1e",
   "metadata": {},
   "source": [
    "# THANK YOU"
   ]
  },
  {
   "cell_type": "code",
   "execution_count": null,
   "id": "0771a299-7964-4405-8fc4-c8314c60d311",
   "metadata": {},
   "outputs": [],
   "source": []
  }
 ],
 "metadata": {
  "kernelspec": {
   "display_name": "Python 3 (ipykernel)",
   "language": "python",
   "name": "python3"
  },
  "language_info": {
   "codemirror_mode": {
    "name": "ipython",
    "version": 3
   },
   "file_extension": ".py",
   "mimetype": "text/x-python",
   "name": "python",
   "nbconvert_exporter": "python",
   "pygments_lexer": "ipython3",
   "version": "3.13.3"
  }
 },
 "nbformat": 4,
 "nbformat_minor": 5
}
